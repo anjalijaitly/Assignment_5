{
 "cells": [
  {
   "cell_type": "markdown",
   "id": "e38fde12",
   "metadata": {},
   "source": [
    "Q1. What does an empty dictionary's code look like?\n",
    "\n",
    "An empty dictionary is denoted by {}"
   ]
  },
  {
   "cell_type": "markdown",
   "id": "42745103",
   "metadata": {},
   "source": [
    "Q2. What is the value of a dictionary value with the key 'foo' and the value 42?\n",
    "\n",
    "{'foo':42}"
   ]
  },
  {
   "cell_type": "markdown",
   "id": "f41bb33c",
   "metadata": {},
   "source": [
    "Q3. What is the most important distiction between a dictionary and a list?\n",
    "\n",
    "In list default order of element is always maintained. In dictionary the elements might not be ordered."
   ]
  },
  {
   "cell_type": "markdown",
   "id": "c8a3a023",
   "metadata": {},
   "source": [
    "Q4. What happens if you try to access spam['foo'] if spam is {'bar':100}?\n",
    "\n",
    "It gives KeyError."
   ]
  },
  {
   "cell_type": "code",
   "execution_count": 1,
   "id": "bec081de",
   "metadata": {},
   "outputs": [],
   "source": [
    "spam={'bar':100}"
   ]
  },
  {
   "cell_type": "code",
   "execution_count": 2,
   "id": "1ab6c9c3",
   "metadata": {},
   "outputs": [
    {
     "ename": "KeyError",
     "evalue": "'foo'",
     "output_type": "error",
     "traceback": [
      "\u001b[1;31m---------------------------------------------------------------------------\u001b[0m",
      "\u001b[1;31mKeyError\u001b[0m                                  Traceback (most recent call last)",
      "Input \u001b[1;32mIn [2]\u001b[0m, in \u001b[0;36m<cell line: 1>\u001b[1;34m()\u001b[0m\n\u001b[1;32m----> 1\u001b[0m \u001b[43mspam\u001b[49m\u001b[43m[\u001b[49m\u001b[38;5;124;43m'\u001b[39;49m\u001b[38;5;124;43mfoo\u001b[39;49m\u001b[38;5;124;43m'\u001b[39;49m\u001b[43m]\u001b[49m\n",
      "\u001b[1;31mKeyError\u001b[0m: 'foo'"
     ]
    }
   ],
   "source": [
    "spam['foo']"
   ]
  },
  {
   "cell_type": "markdown",
   "id": "a0eff316",
   "metadata": {},
   "source": [
    "Q5. If a dictionary is stored in spam, what is the difference between expression 'cat' in spam and 'cat' in spam.keys()?\n",
    "\n",
    "There is no difference. Both will check whether 'cat' is a key in the dictionary."
   ]
  },
  {
   "cell_type": "markdown",
   "id": "b14962fe",
   "metadata": {},
   "source": [
    "Q6. If a dictionay is stored in spam, what is the difference betweeen expressions 'cat' in spam and 'cat' in spam.values()?\n",
    "\n",
    "'cat' in spam will check whether 'cat' is a key in the dictionary, while 'cat' in spam.values() will check whether a value 'cat' for any of these exists in the dictionary."
   ]
  },
  {
   "cell_type": "markdown",
   "id": "073ad78c",
   "metadata": {},
   "source": [
    "Q7. What is a shortcut for the following code?\n",
    "\n",
    "spam['color']='black'\n",
    "\n",
    "spam.setdefault('color','black')"
   ]
  },
  {
   "cell_type": "markdown",
   "id": "41f373bb",
   "metadata": {},
   "source": [
    "Q8. How do you 'pretty print' dictionary values using which module and function?\n",
    "\n",
    "By importing module pprint and using function pprint()\n",
    "\n",
    "pprint.pprint()"
   ]
  },
  {
   "cell_type": "code",
   "execution_count": null,
   "id": "c237993c",
   "metadata": {},
   "outputs": [],
   "source": []
  }
 ],
 "metadata": {
  "kernelspec": {
   "display_name": "Python 3 (ipykernel)",
   "language": "python",
   "name": "python3"
  },
  "language_info": {
   "codemirror_mode": {
    "name": "ipython",
    "version": 3
   },
   "file_extension": ".py",
   "mimetype": "text/x-python",
   "name": "python",
   "nbconvert_exporter": "python",
   "pygments_lexer": "ipython3",
   "version": "3.9.12"
  }
 },
 "nbformat": 4,
 "nbformat_minor": 5
}
